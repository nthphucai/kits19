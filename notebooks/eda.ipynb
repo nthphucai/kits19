{
 "cells": [
  {
   "cell_type": "code",
   "execution_count": 8,
   "metadata": {},
   "outputs": [],
   "source": [
    "import pandas as pd \n",
    "import numpy as np\n",
    "import torch\n",
    "import torch.nn as nn \n",
    "import nibabel as nib\n",
    "\n",
    "from repos.utils import multiprocess"
   ]
  },
  {
   "cell_type": "code",
   "execution_count": 9,
   "metadata": {},
   "outputs": [],
   "source": [
    "from repos.training.data import create_df\n",
    "import parameter as para \n",
    "from pathlib import Path"
   ]
  },
  {
   "cell_type": "code",
   "execution_count": 10,
   "metadata": {},
   "outputs": [],
   "source": [
    "root = '/Users/HPhuc/Practice/8. Kits2019/data'"
   ]
  },
  {
   "cell_type": "code",
   "execution_count": 11,
   "metadata": {},
   "outputs": [
    {
     "data": {
      "text/html": [
       "<div>\n",
       "<style scoped>\n",
       "    .dataframe tbody tr th:only-of-type {\n",
       "        vertical-align: middle;\n",
       "    }\n",
       "\n",
       "    .dataframe tbody tr th {\n",
       "        vertical-align: top;\n",
       "    }\n",
       "\n",
       "    .dataframe thead th {\n",
       "        text-align: right;\n",
       "    }\n",
       "</style>\n",
       "<table border=\"1\" class=\"dataframe\">\n",
       "  <thead>\n",
       "    <tr style=\"text-align: right;\">\n",
       "      <th></th>\n",
       "      <th>case_id</th>\n",
       "      <th>img_path</th>\n",
       "      <th>seg_path</th>\n",
       "      <th>mask</th>\n",
       "    </tr>\n",
       "  </thead>\n",
       "  <tbody>\n",
       "    <tr>\n",
       "      <th>0</th>\n",
       "      <td>case_00129</td>\n",
       "      <td>/Users/HPhuc/Practice/8. Kits2019/data/case_00...</td>\n",
       "      <td>/Users/HPhuc/Practice/8. Kits2019/data/case_00...</td>\n",
       "      <td>1</td>\n",
       "    </tr>\n",
       "    <tr>\n",
       "      <th>1</th>\n",
       "      <td>case_00151</td>\n",
       "      <td>/Users/HPhuc/Practice/8. Kits2019/data/case_00...</td>\n",
       "      <td>/Users/HPhuc/Practice/8. Kits2019/data/case_00...</td>\n",
       "      <td>1</td>\n",
       "    </tr>\n",
       "    <tr>\n",
       "      <th>2</th>\n",
       "      <td>case_00190</td>\n",
       "      <td>/Users/HPhuc/Practice/8. Kits2019/data/case_00...</td>\n",
       "      <td>/Users/HPhuc/Practice/8. Kits2019/data/case_00...</td>\n",
       "      <td>1</td>\n",
       "    </tr>\n",
       "    <tr>\n",
       "      <th>3</th>\n",
       "      <td>case_00207</td>\n",
       "      <td>/Users/HPhuc/Practice/8. Kits2019/data/case_00...</td>\n",
       "      <td>/Users/HPhuc/Practice/8. Kits2019/data/case_00...</td>\n",
       "      <td>1</td>\n",
       "    </tr>\n",
       "  </tbody>\n",
       "</table>\n",
       "</div>"
      ],
      "text/plain": [
       "      case_id                                           img_path  \\\n",
       "0  case_00129  /Users/HPhuc/Practice/8. Kits2019/data/case_00...   \n",
       "1  case_00151  /Users/HPhuc/Practice/8. Kits2019/data/case_00...   \n",
       "2  case_00190  /Users/HPhuc/Practice/8. Kits2019/data/case_00...   \n",
       "3  case_00207  /Users/HPhuc/Practice/8. Kits2019/data/case_00...   \n",
       "\n",
       "                                            seg_path  mask  \n",
       "0  /Users/HPhuc/Practice/8. Kits2019/data/case_00...     1  \n",
       "1  /Users/HPhuc/Practice/8. Kits2019/data/case_00...     1  \n",
       "2  /Users/HPhuc/Practice/8. Kits2019/data/case_00...     1  \n",
       "3  /Users/HPhuc/Practice/8. Kits2019/data/case_00...     1  "
      ]
     },
     "execution_count": 11,
     "metadata": {},
     "output_type": "execute_result"
    }
   ],
   "source": [
    "data = create_df.df_image_mask_path(root)\n",
    "data"
   ]
  },
  {
   "cell_type": "code",
   "execution_count": 13,
   "metadata": {},
   "outputs": [
    {
     "data": {
      "text/plain": [
       "'/Users/HPhuc/Practice/8. Kits2019/data/case_00129/segmentation.nii.gz'"
      ]
     },
     "execution_count": 13,
     "metadata": {},
     "output_type": "execute_result"
    }
   ],
   "source": [
    "import random\n",
    "idc = np.random.randint(len(data))\n",
    "data.iloc[0]['seg_path']"
   ]
  },
  {
   "cell_type": "code",
   "execution_count": 15,
   "metadata": {},
   "outputs": [],
   "source": [
    "data.to_csv(Path(para.csv_path, 'data_df.csv'))\n"
   ]
  },
  {
   "cell_type": "code",
   "execution_count": 16,
   "metadata": {},
   "outputs": [
    {
     "name": "stdout",
     "output_type": "stream",
     "text": [
      "[3.         0.78162497 0.78162497 1.        ]\n",
      "<class 'nibabel.nifti1.Nifti1Image'>\n",
      "data shape (80, 482, 482)\n",
      "affine: \n",
      "[[ 0.          0.         -0.78162497  0.        ]\n",
      " [ 0.         -0.78162497  0.          0.        ]\n",
      " [-3.          0.          0.          0.        ]\n",
      " [ 0.          0.          0.          1.        ]]\n",
      "metadata:\n",
      "<class 'nibabel.nifti1.Nifti1Header'> object, endian='<'\n",
      "sizeof_hdr      : 348\n",
      "data_type       : b''\n",
      "db_name         : b''\n",
      "extents         : 0\n",
      "session_error   : 0\n",
      "regular         : b''\n",
      "dim_info        : 0\n",
      "dim             : [  3  80 482 482   1   1   1   1]\n",
      "intent_p1       : 0.0\n",
      "intent_p2       : 0.0\n",
      "intent_p3       : 0.0\n",
      "intent_code     : none\n",
      "datatype        : float64\n",
      "bitpix          : 64\n",
      "slice_start     : 0\n",
      "pixdim          : [1.       3.       0.781625 0.781625 1.       1.       1.       1.      ]\n",
      "vox_offset      : 0.0\n",
      "scl_slope       : nan\n",
      "scl_inter       : nan\n",
      "slice_end       : 0\n",
      "slice_code      : unknown\n",
      "xyzt_units      : 0\n",
      "cal_max         : 0.0\n",
      "cal_min         : 0.0\n",
      "slice_duration  : 0.0\n",
      "toffset         : 0.0\n",
      "glmax           : 0\n",
      "glmin           : 0\n",
      "descrip         : b''\n",
      "aux_file        : b''\n",
      "qform_code      : unknown\n",
      "sform_code      : aligned\n",
      "quatern_b       : -0.70710677\n",
      "quatern_c       : 0.0\n",
      "quatern_d       : 0.70710677\n",
      "qoffset_x       : 0.0\n",
      "qoffset_y       : 0.0\n",
      "qoffset_z       : 0.0\n",
      "srow_x          : [ 0.        0.       -0.781625  0.      ]\n",
      "srow_y          : [ 0.       -0.781625  0.        0.      ]\n",
      "srow_z          : [-3.  0.  0.  0.]\n",
      "intent_name     : b''\n",
      "magic           : b'n+1'\n"
     ]
    }
   ],
   "source": [
    "import nibabel as nib \n",
    "import numpy as np \n",
    "path = data.iloc[0, 1]\n",
    "img = nib.load(path)\n",
    "img_arr = nib.load(path).get_fdata()\n",
    "print(np.diag(abs(img.affine[[2, 1, 0, 3]])))\n",
    "print(img)\n"
   ]
  },
  {
   "cell_type": "markdown",
   "metadata": {},
   "source": [
    "slice_percentage"
   ]
  },
  {
   "cell_type": "code",
   "execution_count": null,
   "metadata": {},
   "outputs": [],
   "source": [
    "data = data.sort_values(by=['case_id']).reset_index(drop=True)\n",
    "data = data.drop_duplicates(keep='first')\n",
    "data"
   ]
  },
  {
   "cell_type": "code",
   "execution_count": 18,
   "metadata": {},
   "outputs": [],
   "source": [
    "def single_slice_percent(idx, data):\n",
    "  row = data.iloc[idx] \n",
    "  seg_path = row['seg_path']\n",
    "  seg = nib.load(seg_path)\n",
    "  seg_array = seg.get_fdata()\n",
    "\n",
    "  kidney_slice = 0\n",
    "  tumor_slice  = 0\n",
    "  organ_slice  = 0\n",
    "\n",
    "  for slice_ in seg_array:\n",
    "    if 1 in slice_ or 2 in slice_: organ_slice += 1\n",
    "    if 1 in slice_: kidney_slice += 1 \n",
    "    if 2 in slice_: tumor_slice  += 1 \n",
    "\n",
    "  return seg_array.shape[0], organ_slice, kidney_slice, tumor_slice"
   ]
  },
  {
   "cell_type": "code",
   "execution_count": 20,
   "metadata": {},
   "outputs": [
    {
     "name": "stdout",
     "output_type": "stream",
     "text": [
      "...multiprocessing...\n"
     ]
    },
    {
     "name": "stderr",
     "output_type": "stream",
     "text": [
      "100%|██████████| 4/4 [00:03<00:00,  1.03it/s]"
     ]
    },
    {
     "name": "stdout",
     "output_type": "stream",
     "text": [
      "The overall proportion of slices containing the organ in the training set: 0.2953846153846154\n",
      "The overall proportion of slices containing the kidney in the training set: 0.28307692307692306\n",
      "The overall proportion of slices containing the tumor in the training set: 0.10461538461538461\n"
     ]
    },
    {
     "name": "stderr",
     "output_type": "stream",
     "text": [
      "\n"
     ]
    }
   ],
   "source": [
    "result = multiprocess(single_slice_percent, range(len(data)), data=data)\n",
    "\n",
    "total_slice        = sum([result[i][0] for i in range(len(result))])\n",
    "total_organ_slice  = sum([result[i][1] for i in range(len(result))])\n",
    "total_organ_kidney = sum([result[i][2] for i in range(len(result))])\n",
    "total_organ_tumor  = sum([result[i][3] for i in range(len(result))])\n",
    "\n",
    "print('The overall proportion of slices containing the organ in the training set:', total_organ_slice / total_slice)\n",
    "print('The overall proportion of slices containing the kidney in the training set:', total_organ_kidney / total_slice)\n",
    "print('The overall proportion of slices containing the tumor in the training set:', total_organ_tumor / total_slice)\n"
   ]
  },
  {
   "cell_type": "markdown",
   "metadata": {},
   "source": [
    "voxel_percentage\n"
   ]
  },
  {
   "cell_type": "code",
   "execution_count": 21,
   "metadata": {},
   "outputs": [],
   "source": [
    "def single_voxel_percent(idx, data):\n",
    "    row = data.iloc[idx]\n",
    "    \n",
    "    seg_path = row['seg_path']\n",
    "    seg = nib.load(seg_path)\n",
    "    seg_array = seg.get_fdata()\n",
    "\n",
    "    # seg_path = row['new_seg_path']\n",
    "    # seg_array = np.load(seg_path)\n",
    "\n",
    "    kidney_slice = 0\n",
    "    tumor_slice  = 0\n",
    "    organ_slice  = 0\n",
    "\n",
    "    for slice_ in seg_array:\n",
    "      if 1 in slice_ or 2 in slice_: \n",
    "        organ_slice += 1\n",
    "\n",
    "    organ_point  = (seg_array  > 0).astype(int).sum()\n",
    "    kidney_point = (seg_array == 1).astype(int).sum()\n",
    "    tumor_point  = (seg_array == 2).astype(int).sum()\n",
    "\n",
    "    organ_slice  = organ_slice * 256 * 256\n",
    "\n",
    "    return organ_slice, organ_point, kidney_point, tumor_point"
   ]
  },
  {
   "cell_type": "code",
   "execution_count": 22,
   "metadata": {},
   "outputs": [
    {
     "name": "stdout",
     "output_type": "stream",
     "text": [
      "...multiprocessing...\n"
     ]
    },
    {
     "name": "stderr",
     "output_type": "stream",
     "text": [
      "100%|██████████| 4/4 [00:03<00:00,  1.19it/s]"
     ]
    },
    {
     "name": "stdout",
     "output_type": "stream",
     "text": [
      "The overall proportion of voxels containing the organ in the training set: 0.09286785125732422\n",
      "The overall proportion of voxels containing the kidney in the training set: 0.08012922604878743\n",
      "The overall proportion of voxels containing the tumor in the training set: 0.012738625208536783\n"
     ]
    },
    {
     "name": "stderr",
     "output_type": "stream",
     "text": [
      "\n"
     ]
    }
   ],
   "source": [
    "result = multiprocess(single_voxel_percent, range(len(data)), data=data)\n",
    "\n",
    "total_point        = sum([result[i][0] for i in range(len(result))])\n",
    "total_organ_point  = sum([result[i][1] for i in range(len(result))])\n",
    "total_kidney_point = sum([result[i][2] for i in range(len(result))])\n",
    "total_tumor_point  = sum([result[i][3] for i in range(len(result))])\n",
    "\n",
    "print('The overall proportion of voxels containing the organ in the training set:', total_organ_point / total_point)\n",
    "print('The overall proportion of voxels containing the kidney in the training set:', total_kidney_point / total_point)\n",
    "print('The overall proportion of voxels containing the tumor in the training set:', total_tumor_point / total_point)"
   ]
  },
  {
   "cell_type": "markdown",
   "metadata": {},
   "source": [
    "Get_threshold"
   ]
  },
  {
   "cell_type": "code",
   "execution_count": 23,
   "metadata": {},
   "outputs": [],
   "source": [
    "def get_threshold(idx, data):\n",
    "    row = data.iloc[idx]\n",
    "    ct_path = row['img_path']\n",
    "    ct      = nib.load(ct_path)\n",
    "    ct_array = ct.get_fdata()\n",
    "\n",
    "    seg_path = row['seg_path']\n",
    "    seg      = nib.load(seg_path)\n",
    "    seg_array = seg.get_fdata()\n",
    "\n",
    "    organ_roi = ct_array[seg_array > 0]\n",
    "    inliers = ((organ_roi < para.upper_bound) * (organ_roi > para.lower_bound)).astype(int).sum()\n",
    "\n",
    "    organ_roi_shape = organ_roi.shape[0]\n",
    "\n",
    "    return organ_roi_shape, inliers"
   ]
  },
  {
   "cell_type": "code",
   "execution_count": 24,
   "metadata": {},
   "outputs": [
    {
     "name": "stdout",
     "output_type": "stream",
     "text": [
      "...multiprocessing...\n"
     ]
    },
    {
     "name": "stderr",
     "output_type": "stream",
     "text": [
      "100%|██████████| 4/4 [00:05<00:00,  1.26s/it]"
     ]
    },
    {
     "name": "stdout",
     "output_type": "stream",
     "text": [
      "Ngưỡng threshold bound = [-79, 304]  đối với kidney trong tập huấn luyện\n",
      "0.9920140208189993\n"
     ]
    },
    {
     "name": "stderr",
     "output_type": "stream",
     "text": [
      "\n"
     ]
    }
   ],
   "source": [
    "result = multiprocess(get_threshold, range(len(data)), data=data)\n",
    "\n",
    "num_point        = sum([result[i][0] for i in range(len(result))])\n",
    "num_inlier       = sum([result[i][1] for i in range(len(result))])\n",
    "print(\"Ngưỡng threshold bound = [{}, {}]  đối với kidney trong tập huấn luyện\".format(para.lower_bound, para.upper_bound))\n",
    "print(num_inlier / num_point)"
   ]
  },
  {
   "cell_type": "markdown",
   "metadata": {},
   "source": [
    "Get_spacing"
   ]
  },
  {
   "cell_type": "code",
   "execution_count": null,
   "metadata": {},
   "outputs": [],
   "source": []
  }
 ],
 "metadata": {
  "kernelspec": {
   "display_name": "env1",
   "language": "python",
   "name": "env1"
  },
  "language_info": {
   "codemirror_mode": {
    "name": "ipython",
    "version": 3
   },
   "file_extension": ".py",
   "mimetype": "text/x-python",
   "name": "python",
   "nbconvert_exporter": "python",
   "pygments_lexer": "ipython3",
   "version": "3.7.12"
  },
  "orig_nbformat": 4
 },
 "nbformat": 4,
 "nbformat_minor": 2
}
