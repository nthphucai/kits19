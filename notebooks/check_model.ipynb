{
 "cells": [
  {
   "cell_type": "code",
   "execution_count": 1,
   "metadata": {},
   "outputs": [],
   "source": [
    "import pandas as pd \n",
    "import numpy as np\n",
    "import torch\n",
    "import torch.nn as nn \n",
    "from torchsummary import summary\n",
    "\n",
    "from repos.training.data.preprocess import split_data\n",
    "from repos.training.models.unet3D import BasicUnet3D, UnetRes3D_v1, UnetRes3D_v2\n",
    "from repos.training.models.unet3D import DyUnetRes3D\n",
    "from repos.training.data.trainer import Trainer\n",
    "from repos.loss import Dice_BCE, FocalDiceLoss, DiceLoss\n",
    "from repos import utils \n",
    "from repos.metric import Dice_3D\n",
    "import parameter as para\n",
    "from parameter import * \n"
   ]
  },
  {
   "cell_type": "code",
   "execution_count": 3,
   "metadata": {},
   "outputs": [],
   "source": [
    "import torch.nn as nn \n",
    "\n",
    "def segment(pretrained_path, freeze_feature, num_classes=3, act='sigmoid'):\n",
    "\n",
    "  # backbone = DyUnetRes3D('resnet50', num_classes=num_classes)\n",
    "  # backbone = UnetRes3D_v1(in_channels=1, num_classes)\n",
    "  backbone = UnetRes3D_v2(in_channels=1, num_classes=num_classes)\n",
    "  \n",
    "  if freeze_feature:\n",
    "    print('freeze_feature')\n",
    "    child = nn.Sequential(*list(backbone.children())[:-1])\n",
    "    for param in child.parameters():\n",
    "      param.requires_grad = False  \n",
    "\n",
    "  model = nn.Sequential()\n",
    "  model.backbone = backbone\n",
    "\n",
    "  if act == 'sigmoid':\n",
    "    model.act = nn.Sigmoid()\n",
    "  elif act == 'softmax':\n",
    "    model.act = nn.Softmax(dim=1)\n",
    "\n",
    "  if pretrained_path is not None:\n",
    "    cp = torch.load(pretrained_path)\n",
    "    model.load_state_dict(cp['model_state_dict'])\n",
    "    print(pretrained_path)\n",
    "    print(sum(p.numel() for p in model.parameters()))\n",
    "\n",
    "  return model\n",
    "\n",
    "model = segment(pretrained_path=None, freeze_feature=False, act='softmax')\n"
   ]
  },
  {
   "cell_type": "code",
   "execution_count": 4,
   "metadata": {},
   "outputs": [
    {
     "name": "stdout",
     "output_type": "stream",
     "text": [
      "torch.Size([1, 3, 80, 160, 160])\n"
     ]
    }
   ],
   "source": [
    "x = torch.rand(1,1,80,160,160)\n",
    "print(model(x).shape)"
   ]
  }
 ],
 "metadata": {
  "interpreter": {
   "hash": "16fd0be27b59a639c645e56c43a95ce42e074baabdf12dcb6efea33a336ac199"
  },
  "kernelspec": {
   "display_name": "Python 3.7.12 ('env1')",
   "language": "python",
   "name": "python3"
  },
  "language_info": {
   "codemirror_mode": {
    "name": "ipython",
    "version": 3
   },
   "file_extension": ".py",
   "mimetype": "text/x-python",
   "name": "python",
   "nbconvert_exporter": "python",
   "pygments_lexer": "ipython3",
   "version": "3.7.12"
  },
  "orig_nbformat": 4
 },
 "nbformat": 4,
 "nbformat_minor": 2
}
