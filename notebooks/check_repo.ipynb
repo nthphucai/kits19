{
 "cells": [
  {
   "cell_type": "code",
   "execution_count": 5,
   "metadata": {},
   "outputs": [],
   "source": [
    "import random\n",
    "import numpy as np \n",
    "import torch \n",
    "import pandas as pd\n",
    "\n",
    "from repos.training.data import create_df, preprocess\n",
    "from repos.training.data.get_dl import get_dloader\n",
    "import parameter as para \n",
    "from pathlib import Path\n",
    "from repos.constant import *\n",
    "\n",
    "import matplotlib.pyplot as plt"
   ]
  },
  {
   "cell_type": "code",
   "execution_count": 6,
   "metadata": {},
   "outputs": [
    {
     "data": {
      "text/html": [
       "<div>\n",
       "<style scoped>\n",
       "    .dataframe tbody tr th:only-of-type {\n",
       "        vertical-align: middle;\n",
       "    }\n",
       "\n",
       "    .dataframe tbody tr th {\n",
       "        vertical-align: top;\n",
       "    }\n",
       "\n",
       "    .dataframe thead th {\n",
       "        text-align: right;\n",
       "    }\n",
       "</style>\n",
       "<table border=\"1\" class=\"dataframe\">\n",
       "  <thead>\n",
       "    <tr style=\"text-align: right;\">\n",
       "      <th></th>\n",
       "      <th>case_id</th>\n",
       "      <th>new_vol_path</th>\n",
       "      <th>new_seg_path</th>\n",
       "    </tr>\n",
       "  </thead>\n",
       "  <tbody>\n",
       "    <tr>\n",
       "      <th>0</th>\n",
       "      <td>case_00207</td>\n",
       "      <td>/Users/HPhuc/Practice/8. Kits2019/Source/outpu...</td>\n",
       "      <td>/Users/HPhuc/Practice/8. Kits2019/Source/outpu...</td>\n",
       "    </tr>\n",
       "    <tr>\n",
       "      <th>1</th>\n",
       "      <td>case_00190</td>\n",
       "      <td>/Users/HPhuc/Practice/8. Kits2019/Source/outpu...</td>\n",
       "      <td>/Users/HPhuc/Practice/8. Kits2019/Source/outpu...</td>\n",
       "    </tr>\n",
       "    <tr>\n",
       "      <th>2</th>\n",
       "      <td>case_00151</td>\n",
       "      <td>/Users/HPhuc/Practice/8. Kits2019/Source/outpu...</td>\n",
       "      <td>/Users/HPhuc/Practice/8. Kits2019/Source/outpu...</td>\n",
       "    </tr>\n",
       "    <tr>\n",
       "      <th>3</th>\n",
       "      <td>case_00129</td>\n",
       "      <td>/Users/HPhuc/Practice/8. Kits2019/Source/outpu...</td>\n",
       "      <td>/Users/HPhuc/Practice/8. Kits2019/Source/outpu...</td>\n",
       "    </tr>\n",
       "  </tbody>\n",
       "</table>\n",
       "</div>"
      ],
      "text/plain": [
       "      case_id                                       new_vol_path  \\\n",
       "0  case_00207  /Users/HPhuc/Practice/8. Kits2019/Source/outpu...   \n",
       "1  case_00190  /Users/HPhuc/Practice/8. Kits2019/Source/outpu...   \n",
       "2  case_00151  /Users/HPhuc/Practice/8. Kits2019/Source/outpu...   \n",
       "3  case_00129  /Users/HPhuc/Practice/8. Kits2019/Source/outpu...   \n",
       "\n",
       "                                        new_seg_path  \n",
       "0  /Users/HPhuc/Practice/8. Kits2019/Source/outpu...  \n",
       "1  /Users/HPhuc/Practice/8. Kits2019/Source/outpu...  \n",
       "2  /Users/HPhuc/Practice/8. Kits2019/Source/outpu...  \n",
       "3  /Users/HPhuc/Practice/8. Kits2019/Source/outpu...  "
      ]
     },
     "execution_count": 6,
     "metadata": {},
     "output_type": "execute_result"
    }
   ],
   "source": [
    "data = pd.read_csv('/Users/HPhuc/Practice/8. Kits2019/Source/outputs/csv/train_ds.csv', index_col=0)\n",
    "data "
   ]
  },
  {
   "cell_type": "code",
   "execution_count": 7,
   "metadata": {},
   "outputs": [
    {
     "name": "stdout",
     "output_type": "stream",
     "text": [
      "data train: 4\n",
      "img shape: torch.Size([2, 80, 160, 160])\n",
      "seg shape: torch.Size([3, 80, 160, 160])\n",
      "seg value: [0. 1.]\n",
      "torch.Size([1, 2, 80, 160, 160])\n",
      "torch.Size([1, 3, 80, 160, 160])\n"
     ]
    }
   ],
   "source": [
    "train_dl, val_dl = get_dloader(df=data, fold=None, augs=None, workers=6)\n",
    "imgs, targets = next(iter(train_dl))     \n",
    "print(imgs.shape)\n",
    "print(targets.shape)"
   ]
  },
  {
   "cell_type": "code",
   "execution_count": null,
   "metadata": {},
   "outputs": [],
   "source": []
  }
 ],
 "metadata": {
  "interpreter": {
   "hash": "1065cd61f4fbf1eab7a9bc88e7524a6479972e6508f98f8d7dc39b91729afe7a"
  },
  "kernelspec": {
   "display_name": "Python 3.8.5 ('base')",
   "language": "python",
   "name": "python3"
  },
  "language_info": {
   "codemirror_mode": {
    "name": "ipython",
    "version": 3
   },
   "file_extension": ".py",
   "mimetype": "text/x-python",
   "name": "python",
   "nbconvert_exporter": "python",
   "pygments_lexer": "ipython3",
   "version": "3.8.5"
  },
  "orig_nbformat": 4
 },
 "nbformat": 4,
 "nbformat_minor": 2
}
