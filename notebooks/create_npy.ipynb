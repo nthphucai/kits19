{
 "cells": [
  {
   "cell_type": "code",
   "execution_count": 1,
   "metadata": {},
   "outputs": [],
   "source": [
    "# !pip install spicy\n",
    "# !pip install scikit-learn\n"
   ]
  },
  {
   "cell_type": "code",
   "execution_count": 2,
   "metadata": {},
   "outputs": [],
   "source": [
    "from repos.training.data import create_df, preprocess\n",
    "from repos.constant import * \n",
    "import parameter as para \n",
    "from pathlib import Path"
   ]
  },
  {
   "cell_type": "code",
   "execution_count": 3,
   "metadata": {},
   "outputs": [
    {
     "data": {
      "text/plain": [
       "8"
      ]
     },
     "execution_count": 3,
     "metadata": {},
     "output_type": "execute_result"
    }
   ],
   "source": [
    "import multiprocessing\n",
    "\n",
    "multiprocessing.cpu_count()"
   ]
  },
  {
   "cell_type": "code",
   "execution_count": 4,
   "metadata": {},
   "outputs": [
    {
     "data": {
      "text/html": [
       "<div>\n",
       "<style scoped>\n",
       "    .dataframe tbody tr th:only-of-type {\n",
       "        vertical-align: middle;\n",
       "    }\n",
       "\n",
       "    .dataframe tbody tr th {\n",
       "        vertical-align: top;\n",
       "    }\n",
       "\n",
       "    .dataframe thead th {\n",
       "        text-align: right;\n",
       "    }\n",
       "</style>\n",
       "<table border=\"1\" class=\"dataframe\">\n",
       "  <thead>\n",
       "    <tr style=\"text-align: right;\">\n",
       "      <th></th>\n",
       "      <th>case_id</th>\n",
       "      <th>img_path</th>\n",
       "      <th>seg_path</th>\n",
       "      <th>mask</th>\n",
       "    </tr>\n",
       "  </thead>\n",
       "  <tbody>\n",
       "    <tr>\n",
       "      <th>0</th>\n",
       "      <td>case_00129</td>\n",
       "      <td>/Users/HPhuc/Practice/8. Kits2019/data/case_00...</td>\n",
       "      <td>/Users/HPhuc/Practice/8. Kits2019/data/case_00...</td>\n",
       "      <td>1</td>\n",
       "    </tr>\n",
       "    <tr>\n",
       "      <th>1</th>\n",
       "      <td>case_00151</td>\n",
       "      <td>/Users/HPhuc/Practice/8. Kits2019/data/case_00...</td>\n",
       "      <td>/Users/HPhuc/Practice/8. Kits2019/data/case_00...</td>\n",
       "      <td>1</td>\n",
       "    </tr>\n",
       "    <tr>\n",
       "      <th>2</th>\n",
       "      <td>case_00190</td>\n",
       "      <td>/Users/HPhuc/Practice/8. Kits2019/data/case_00...</td>\n",
       "      <td>/Users/HPhuc/Practice/8. Kits2019/data/case_00...</td>\n",
       "      <td>1</td>\n",
       "    </tr>\n",
       "    <tr>\n",
       "      <th>3</th>\n",
       "      <td>case_00207</td>\n",
       "      <td>/Users/HPhuc/Practice/8. Kits2019/data/case_00...</td>\n",
       "      <td>/Users/HPhuc/Practice/8. Kits2019/data/case_00...</td>\n",
       "      <td>1</td>\n",
       "    </tr>\n",
       "  </tbody>\n",
       "</table>\n",
       "</div>"
      ],
      "text/plain": [
       "      case_id                                           img_path  \\\n",
       "0  case_00129  /Users/HPhuc/Practice/8. Kits2019/data/case_00...   \n",
       "1  case_00151  /Users/HPhuc/Practice/8. Kits2019/data/case_00...   \n",
       "2  case_00190  /Users/HPhuc/Practice/8. Kits2019/data/case_00...   \n",
       "3  case_00207  /Users/HPhuc/Practice/8. Kits2019/data/case_00...   \n",
       "\n",
       "                                            seg_path  mask  \n",
       "0  /Users/HPhuc/Practice/8. Kits2019/data/case_00...     1  \n",
       "1  /Users/HPhuc/Practice/8. Kits2019/data/case_00...     1  \n",
       "2  /Users/HPhuc/Practice/8. Kits2019/data/case_00...     1  \n",
       "3  /Users/HPhuc/Practice/8. Kits2019/data/case_00...     1  "
      ]
     },
     "execution_count": 4,
     "metadata": {},
     "output_type": "execute_result"
    }
   ],
   "source": [
    "data = pd.read_csv('/Users/HPhuc/Practice/8. Kits2019/Source/outputs/csv/data_df.csv', index_col=0)\n",
    "data "
   ]
  },
  {
   "cell_type": "code",
   "execution_count": 5,
   "metadata": {},
   "outputs": [
    {
     "name": "stdout",
     "output_type": "stream",
     "text": [
      "...multiprocessing...\n"
     ]
    },
    {
     "name": "stderr",
     "output_type": "stream",
     "text": [
      "100%|██████████| 4/4 [00:19<00:00,  4.86s/it]\n"
     ]
    }
   ],
   "source": [
    "from repos.training.data.preprocess import preprocess3D\n",
    "\n",
    "# can than neu tao data preprocess moi, \n",
    "preprocess3D(data, 'train', kfold=False).run()"
   ]
  }
 ],
 "metadata": {
  "interpreter": {
   "hash": "16fd0be27b59a639c645e56c43a95ce42e074baabdf12dcb6efea33a336ac199"
  },
  "kernelspec": {
   "display_name": "Python 3.7.12 ('env1')",
   "language": "python",
   "name": "python3"
  },
  "language_info": {
   "codemirror_mode": {
    "name": "ipython",
    "version": 3
   },
   "file_extension": ".py",
   "mimetype": "text/x-python",
   "name": "python",
   "nbconvert_exporter": "python",
   "pygments_lexer": "ipython3",
   "version": "3.7.12"
  },
  "orig_nbformat": 4
 },
 "nbformat": 4,
 "nbformat_minor": 2
}
